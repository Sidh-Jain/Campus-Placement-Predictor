{
 "cells": [
  {
   "cell_type": "markdown",
   "id": "fa744561",
   "metadata": {},
   "source": [
    "# Campus Placement Predictor"
   ]
  },
  {
   "cell_type": "markdown",
   "id": "3d313d5c",
   "metadata": {},
   "source": [
    "Importing required libraries for data analyis"
   ]
  },
  {
   "cell_type": "code",
   "execution_count": 1,
   "id": "cbd97f02",
   "metadata": {},
   "outputs": [],
   "source": [
    "import pandas as pd\n",
    "import numpy as np\n",
    "import matplotlib.pyplot as plt\n",
    "import seaborn as sns\n",
    "\n",
    "import warnings\n",
    "warnings.filterwarnings('ignore')"
   ]
  },
  {
   "cell_type": "markdown",
   "id": "e75db54d",
   "metadata": {},
   "source": [
    "Reading dataset"
   ]
  },
  {
   "cell_type": "code",
   "execution_count": 2,
   "id": "93724fcf",
   "metadata": {
    "scrolled": true
   },
   "outputs": [],
   "source": [
    "df = pd.read_csv('C:\\\\Users\\\\sidhj\\\\Downloads\\\\campus_placement.csv')"
   ]
  },
  {
   "cell_type": "markdown",
   "id": "7dac00b8",
   "metadata": {},
   "source": [
    "Attributes:\n",
    "sl_no = Serial Number, gender = Gender, ssc_p = Secondary Education Percentage, ssc_b = Board of Secondary Education, hsc_p = Higher Secondary Education Percentage, hsc_b = Board of Higher Secondary Education, hsc_s = Specialisation in Higher Secondary Education, degree_p = UG Degree Percentage, degree_t = Type(Field) of UG degree, workex = Work Experience, etest_p = Test Percentage, specialisation = Branch Specialisation, mba_p = MBA Percentage"
   ]
  },
  {
   "cell_type": "markdown",
   "id": "05c679dc",
   "metadata": {},
   "source": [
    " "
   ]
  },
  {
   "cell_type": "markdown",
   "id": "d1a4a312",
   "metadata": {},
   "source": [
    "We will develop a Machine Learning model capable of determining whether an individual, based on the provided data, will secure a job placement.\n",
    "\n",
    "So, Lets begin with the model!"
   ]
  },
  {
   "cell_type": "markdown",
   "id": "3185ffad",
   "metadata": {},
   "source": [
    "### Exploratory Data Analysis (EDA)"
   ]
  },
  {
   "cell_type": "markdown",
   "id": "eac80a79",
   "metadata": {},
   "source": [
    "Displaying dataset"
   ]
  },
  {
   "cell_type": "code",
   "execution_count": 3,
   "id": "5d7123be",
   "metadata": {},
   "outputs": [
    {
     "data": {
      "text/html": [
       "<div>\n",
       "<style scoped>\n",
       "    .dataframe tbody tr th:only-of-type {\n",
       "        vertical-align: middle;\n",
       "    }\n",
       "\n",
       "    .dataframe tbody tr th {\n",
       "        vertical-align: top;\n",
       "    }\n",
       "\n",
       "    .dataframe thead th {\n",
       "        text-align: right;\n",
       "    }\n",
       "</style>\n",
       "<table border=\"1\" class=\"dataframe\">\n",
       "  <thead>\n",
       "    <tr style=\"text-align: right;\">\n",
       "      <th></th>\n",
       "      <th>sl_no</th>\n",
       "      <th>gender</th>\n",
       "      <th>ssc_p</th>\n",
       "      <th>ssc_b</th>\n",
       "      <th>hsc_p</th>\n",
       "      <th>hsc_b</th>\n",
       "      <th>hsc_s</th>\n",
       "      <th>degree_p</th>\n",
       "      <th>degree_t</th>\n",
       "      <th>workex</th>\n",
       "      <th>etest_p</th>\n",
       "      <th>specialisation</th>\n",
       "      <th>mba_p</th>\n",
       "      <th>status</th>\n",
       "      <th>salary</th>\n",
       "    </tr>\n",
       "  </thead>\n",
       "  <tbody>\n",
       "    <tr>\n",
       "      <th>0</th>\n",
       "      <td>1</td>\n",
       "      <td>M</td>\n",
       "      <td>67.00</td>\n",
       "      <td>Others</td>\n",
       "      <td>91.00</td>\n",
       "      <td>Others</td>\n",
       "      <td>Commerce</td>\n",
       "      <td>58.00</td>\n",
       "      <td>Sci&amp;Tech</td>\n",
       "      <td>No</td>\n",
       "      <td>55.0</td>\n",
       "      <td>Mkt&amp;HR</td>\n",
       "      <td>58.80</td>\n",
       "      <td>Placed</td>\n",
       "      <td>270000.0</td>\n",
       "    </tr>\n",
       "    <tr>\n",
       "      <th>1</th>\n",
       "      <td>2</td>\n",
       "      <td>M</td>\n",
       "      <td>79.33</td>\n",
       "      <td>Central</td>\n",
       "      <td>78.33</td>\n",
       "      <td>Others</td>\n",
       "      <td>Science</td>\n",
       "      <td>77.48</td>\n",
       "      <td>Sci&amp;Tech</td>\n",
       "      <td>Yes</td>\n",
       "      <td>86.5</td>\n",
       "      <td>Mkt&amp;Fin</td>\n",
       "      <td>66.28</td>\n",
       "      <td>Placed</td>\n",
       "      <td>200000.0</td>\n",
       "    </tr>\n",
       "    <tr>\n",
       "      <th>2</th>\n",
       "      <td>3</td>\n",
       "      <td>M</td>\n",
       "      <td>65.00</td>\n",
       "      <td>Central</td>\n",
       "      <td>68.00</td>\n",
       "      <td>Central</td>\n",
       "      <td>Arts</td>\n",
       "      <td>64.00</td>\n",
       "      <td>Comm&amp;Mgmt</td>\n",
       "      <td>No</td>\n",
       "      <td>75.0</td>\n",
       "      <td>Mkt&amp;Fin</td>\n",
       "      <td>57.80</td>\n",
       "      <td>Placed</td>\n",
       "      <td>250000.0</td>\n",
       "    </tr>\n",
       "    <tr>\n",
       "      <th>3</th>\n",
       "      <td>4</td>\n",
       "      <td>M</td>\n",
       "      <td>56.00</td>\n",
       "      <td>Central</td>\n",
       "      <td>52.00</td>\n",
       "      <td>Central</td>\n",
       "      <td>Science</td>\n",
       "      <td>52.00</td>\n",
       "      <td>Sci&amp;Tech</td>\n",
       "      <td>No</td>\n",
       "      <td>66.0</td>\n",
       "      <td>Mkt&amp;HR</td>\n",
       "      <td>59.43</td>\n",
       "      <td>Not Placed</td>\n",
       "      <td>NaN</td>\n",
       "    </tr>\n",
       "    <tr>\n",
       "      <th>4</th>\n",
       "      <td>5</td>\n",
       "      <td>M</td>\n",
       "      <td>85.80</td>\n",
       "      <td>Central</td>\n",
       "      <td>73.60</td>\n",
       "      <td>Central</td>\n",
       "      <td>Commerce</td>\n",
       "      <td>73.30</td>\n",
       "      <td>Comm&amp;Mgmt</td>\n",
       "      <td>No</td>\n",
       "      <td>96.8</td>\n",
       "      <td>Mkt&amp;Fin</td>\n",
       "      <td>55.50</td>\n",
       "      <td>Placed</td>\n",
       "      <td>425000.0</td>\n",
       "    </tr>\n",
       "  </tbody>\n",
       "</table>\n",
       "</div>"
      ],
      "text/plain": [
       "   sl_no gender  ssc_p    ssc_b  hsc_p    hsc_b     hsc_s  degree_p  \\\n",
       "0      1      M  67.00   Others  91.00   Others  Commerce     58.00   \n",
       "1      2      M  79.33  Central  78.33   Others   Science     77.48   \n",
       "2      3      M  65.00  Central  68.00  Central      Arts     64.00   \n",
       "3      4      M  56.00  Central  52.00  Central   Science     52.00   \n",
       "4      5      M  85.80  Central  73.60  Central  Commerce     73.30   \n",
       "\n",
       "    degree_t workex  etest_p specialisation  mba_p      status    salary  \n",
       "0   Sci&Tech     No     55.0         Mkt&HR  58.80      Placed  270000.0  \n",
       "1   Sci&Tech    Yes     86.5        Mkt&Fin  66.28      Placed  200000.0  \n",
       "2  Comm&Mgmt     No     75.0        Mkt&Fin  57.80      Placed  250000.0  \n",
       "3   Sci&Tech     No     66.0         Mkt&HR  59.43  Not Placed       NaN  \n",
       "4  Comm&Mgmt     No     96.8        Mkt&Fin  55.50      Placed  425000.0  "
      ]
     },
     "execution_count": 3,
     "metadata": {},
     "output_type": "execute_result"
    }
   ],
   "source": [
    "df.head()"
   ]
  },
  {
   "cell_type": "markdown",
   "id": "83e76307",
   "metadata": {},
   "source": [
    "Determining size of dataset"
   ]
  },
  {
   "cell_type": "code",
   "execution_count": 4,
   "id": "cff8523a",
   "metadata": {},
   "outputs": [
    {
     "data": {
      "text/plain": [
       "(4879, 15)"
      ]
     },
     "execution_count": 4,
     "metadata": {},
     "output_type": "execute_result"
    }
   ],
   "source": [
    "df.shape"
   ]
  },
  {
   "cell_type": "markdown",
   "id": "64d8ebd6",
   "metadata": {},
   "source": [
    "Describing dataset"
   ]
  },
  {
   "cell_type": "code",
   "execution_count": 5,
   "id": "19ef7379",
   "metadata": {},
   "outputs": [
    {
     "data": {
      "text/html": [
       "<div>\n",
       "<style scoped>\n",
       "    .dataframe tbody tr th:only-of-type {\n",
       "        vertical-align: middle;\n",
       "    }\n",
       "\n",
       "    .dataframe tbody tr th {\n",
       "        vertical-align: top;\n",
       "    }\n",
       "\n",
       "    .dataframe thead th {\n",
       "        text-align: right;\n",
       "    }\n",
       "</style>\n",
       "<table border=\"1\" class=\"dataframe\">\n",
       "  <thead>\n",
       "    <tr style=\"text-align: right;\">\n",
       "      <th></th>\n",
       "      <th>sl_no</th>\n",
       "      <th>ssc_p</th>\n",
       "      <th>hsc_p</th>\n",
       "      <th>degree_p</th>\n",
       "      <th>etest_p</th>\n",
       "      <th>mba_p</th>\n",
       "      <th>salary</th>\n",
       "    </tr>\n",
       "  </thead>\n",
       "  <tbody>\n",
       "    <tr>\n",
       "      <th>count</th>\n",
       "      <td>4879.000000</td>\n",
       "      <td>4879.000000</td>\n",
       "      <td>4879.000000</td>\n",
       "      <td>4879.000000</td>\n",
       "      <td>4879.000000</td>\n",
       "      <td>4879.000000</td>\n",
       "      <td>2008.000000</td>\n",
       "    </tr>\n",
       "    <tr>\n",
       "      <th>mean</th>\n",
       "      <td>2440.000000</td>\n",
       "      <td>72.305130</td>\n",
       "      <td>65.611238</td>\n",
       "      <td>59.783677</td>\n",
       "      <td>66.820086</td>\n",
       "      <td>60.864448</td>\n",
       "      <td>284736.232072</td>\n",
       "    </tr>\n",
       "    <tr>\n",
       "      <th>std</th>\n",
       "      <td>1408.590312</td>\n",
       "      <td>16.510713</td>\n",
       "      <td>17.847544</td>\n",
       "      <td>10.905358</td>\n",
       "      <td>13.410135</td>\n",
       "      <td>7.584622</td>\n",
       "      <td>95798.915692</td>\n",
       "    </tr>\n",
       "    <tr>\n",
       "      <th>min</th>\n",
       "      <td>1.000000</td>\n",
       "      <td>40.890000</td>\n",
       "      <td>37.000000</td>\n",
       "      <td>50.000000</td>\n",
       "      <td>50.000000</td>\n",
       "      <td>51.210000</td>\n",
       "      <td>200000.000000</td>\n",
       "    </tr>\n",
       "    <tr>\n",
       "      <th>25%</th>\n",
       "      <td>1220.500000</td>\n",
       "      <td>59.610000</td>\n",
       "      <td>51.880000</td>\n",
       "      <td>50.000000</td>\n",
       "      <td>55.590000</td>\n",
       "      <td>54.170000</td>\n",
       "      <td>237721.500000</td>\n",
       "    </tr>\n",
       "    <tr>\n",
       "      <th>50%</th>\n",
       "      <td>2440.000000</td>\n",
       "      <td>76.300000</td>\n",
       "      <td>64.890000</td>\n",
       "      <td>56.050000</td>\n",
       "      <td>64.490000</td>\n",
       "      <td>59.960000</td>\n",
       "      <td>275000.000000</td>\n",
       "    </tr>\n",
       "    <tr>\n",
       "      <th>75%</th>\n",
       "      <td>3659.500000</td>\n",
       "      <td>89.400000</td>\n",
       "      <td>78.615000</td>\n",
       "      <td>66.890000</td>\n",
       "      <td>75.845000</td>\n",
       "      <td>66.410000</td>\n",
       "      <td>305295.500000</td>\n",
       "    </tr>\n",
       "    <tr>\n",
       "      <th>max</th>\n",
       "      <td>4879.000000</td>\n",
       "      <td>89.400000</td>\n",
       "      <td>97.700000</td>\n",
       "      <td>91.000000</td>\n",
       "      <td>98.000000</td>\n",
       "      <td>77.890000</td>\n",
       "      <td>940000.000000</td>\n",
       "    </tr>\n",
       "  </tbody>\n",
       "</table>\n",
       "</div>"
      ],
      "text/plain": [
       "             sl_no        ssc_p        hsc_p     degree_p      etest_p  \\\n",
       "count  4879.000000  4879.000000  4879.000000  4879.000000  4879.000000   \n",
       "mean   2440.000000    72.305130    65.611238    59.783677    66.820086   \n",
       "std    1408.590312    16.510713    17.847544    10.905358    13.410135   \n",
       "min       1.000000    40.890000    37.000000    50.000000    50.000000   \n",
       "25%    1220.500000    59.610000    51.880000    50.000000    55.590000   \n",
       "50%    2440.000000    76.300000    64.890000    56.050000    64.490000   \n",
       "75%    3659.500000    89.400000    78.615000    66.890000    75.845000   \n",
       "max    4879.000000    89.400000    97.700000    91.000000    98.000000   \n",
       "\n",
       "             mba_p         salary  \n",
       "count  4879.000000    2008.000000  \n",
       "mean     60.864448  284736.232072  \n",
       "std       7.584622   95798.915692  \n",
       "min      51.210000  200000.000000  \n",
       "25%      54.170000  237721.500000  \n",
       "50%      59.960000  275000.000000  \n",
       "75%      66.410000  305295.500000  \n",
       "max      77.890000  940000.000000  "
      ]
     },
     "execution_count": 5,
     "metadata": {},
     "output_type": "execute_result"
    }
   ],
   "source": [
    "df.describe()"
   ]
  },
  {
   "cell_type": "markdown",
   "id": "b4b69183",
   "metadata": {},
   "source": [
    "Number of Placed vs Not Placed students"
   ]
  },
  {
   "cell_type": "code",
   "execution_count": 6,
   "id": "c1959bb2",
   "metadata": {},
   "outputs": [
    {
     "data": {
      "image/png": "[encoded data removed]",
      "text/plain": [
       "<Figure size 640x480 with 1 Axes>"
      ]
     },
     "metadata": {},
     "output_type": "display_data"
    }
   ],
   "source": [
    "ax = sns.countplot(x='status', data=df)\n",
    "ax.bar_label(ax.containers[0])\n",
    "plt.show()"
   ]
  },
  {
   "cell_type": "markdown",
   "id": "7075c537",
   "metadata": {},
   "source": [
    "### Data Preprocessing"
   ]
  },
  {
   "cell_type": "markdown",
   "id": "20ef0f92",
   "metadata": {},
   "source": [
    "In this model, the sl_no and salary columns are not required since our focus is solely on predicting whether a student will be placed or not. Therefore, we will create a new dataframe without including these columns."
   ]
  },
  {
   "cell_type": "code",
   "execution_count": 7,
   "id": "75e4e759",
   "metadata": {},
   "outputs": [
    {
     "data": {
      "text/html": [
       "<div>\n",
       "<style scoped>\n",
       "    .dataframe tbody tr th:only-of-type {\n",
       "        vertical-align: middle;\n",
       "    }\n",
       "\n",
       "    .dataframe tbody tr th {\n",
       "        vertical-align: top;\n",
       "    }\n",
       "\n",
       "    .dataframe thead th {\n",
       "        text-align: right;\n",
       "    }\n",
       "</style>\n",
       "<table border=\"1\" class=\"dataframe\">\n",
       "  <thead>\n",
       "    <tr style=\"text-align: right;\">\n",
       "      <th></th>\n",
       "      <th>gender</th>\n",
       "      <th>ssc_p</th>\n",
       "      <th>ssc_b</th>\n",
       "      <th>hsc_p</th>\n",
       "      <th>hsc_b</th>\n",
       "      <th>hsc_s</th>\n",
       "      <th>degree_p</th>\n",
       "      <th>degree_t</th>\n",
       "      <th>workex</th>\n",
       "      <th>etest_p</th>\n",
       "      <th>specialisation</th>\n",
       "      <th>mba_p</th>\n",
       "      <th>status</th>\n",
       "    </tr>\n",
       "  </thead>\n",
       "  <tbody>\n",
       "    <tr>\n",
       "      <th>0</th>\n",
       "      <td>M</td>\n",
       "      <td>67.00</td>\n",
       "      <td>Others</td>\n",
       "      <td>91.00</td>\n",
       "      <td>Others</td>\n",
       "      <td>Commerce</td>\n",
       "      <td>58.00</td>\n",
       "      <td>Sci&amp;Tech</td>\n",
       "      <td>No</td>\n",
       "      <td>55.0</td>\n",
       "      <td>Mkt&amp;HR</td>\n",
       "      <td>58.80</td>\n",
       "      <td>Placed</td>\n",
       "    </tr>\n",
       "    <tr>\n",
       "      <th>1</th>\n",
       "      <td>M</td>\n",
       "      <td>79.33</td>\n",
       "      <td>Central</td>\n",
       "      <td>78.33</td>\n",
       "      <td>Others</td>\n",
       "      <td>Science</td>\n",
       "      <td>77.48</td>\n",
       "      <td>Sci&amp;Tech</td>\n",
       "      <td>Yes</td>\n",
       "      <td>86.5</td>\n",
       "      <td>Mkt&amp;Fin</td>\n",
       "      <td>66.28</td>\n",
       "      <td>Placed</td>\n",
       "    </tr>\n",
       "    <tr>\n",
       "      <th>2</th>\n",
       "      <td>M</td>\n",
       "      <td>65.00</td>\n",
       "      <td>Central</td>\n",
       "      <td>68.00</td>\n",
       "      <td>Central</td>\n",
       "      <td>Arts</td>\n",
       "      <td>64.00</td>\n",
       "      <td>Comm&amp;Mgmt</td>\n",
       "      <td>No</td>\n",
       "      <td>75.0</td>\n",
       "      <td>Mkt&amp;Fin</td>\n",
       "      <td>57.80</td>\n",
       "      <td>Placed</td>\n",
       "    </tr>\n",
       "    <tr>\n",
       "      <th>3</th>\n",
       "      <td>M</td>\n",
       "      <td>56.00</td>\n",
       "      <td>Central</td>\n",
       "      <td>52.00</td>\n",
       "      <td>Central</td>\n",
       "      <td>Science</td>\n",
       "      <td>52.00</td>\n",
       "      <td>Sci&amp;Tech</td>\n",
       "      <td>No</td>\n",
       "      <td>66.0</td>\n",
       "      <td>Mkt&amp;HR</td>\n",
       "      <td>59.43</td>\n",
       "      <td>Not Placed</td>\n",
       "    </tr>\n",
       "    <tr>\n",
       "      <th>4</th>\n",
       "      <td>M</td>\n",
       "      <td>85.80</td>\n",
       "      <td>Central</td>\n",
       "      <td>73.60</td>\n",
       "      <td>Central</td>\n",
       "      <td>Commerce</td>\n",
       "      <td>73.30</td>\n",
       "      <td>Comm&amp;Mgmt</td>\n",
       "      <td>No</td>\n",
       "      <td>96.8</td>\n",
       "      <td>Mkt&amp;Fin</td>\n",
       "      <td>55.50</td>\n",
       "      <td>Placed</td>\n",
       "    </tr>\n",
       "  </tbody>\n",
       "</table>\n",
       "</div>"
      ],
      "text/plain": [
       "  gender  ssc_p    ssc_b  hsc_p    hsc_b     hsc_s  degree_p   degree_t  \\\n",
       "0      M  67.00   Others  91.00   Others  Commerce     58.00   Sci&Tech   \n",
       "1      M  79.33  Central  78.33   Others   Science     77.48   Sci&Tech   \n",
       "2      M  65.00  Central  68.00  Central      Arts     64.00  Comm&Mgmt   \n",
       "3      M  56.00  Central  52.00  Central   Science     52.00   Sci&Tech   \n",
       "4      M  85.80  Central  73.60  Central  Commerce     73.30  Comm&Mgmt   \n",
       "\n",
       "  workex  etest_p specialisation  mba_p      status  \n",
       "0     No     55.0         Mkt&HR  58.80      Placed  \n",
       "1    Yes     86.5        Mkt&Fin  66.28      Placed  \n",
       "2     No     75.0        Mkt&Fin  57.80      Placed  \n",
       "3     No     66.0         Mkt&HR  59.43  Not Placed  \n",
       "4     No     96.8        Mkt&Fin  55.50      Placed  "
      ]
     },
     "execution_count": 7,
     "metadata": {},
     "output_type": "execute_result"
    }
   ],
   "source": [
    "data = df.drop(['sl_no', 'salary'], axis=1)\n",
    "data.head()"
   ]
  },
  {
   "cell_type": "markdown",
   "id": "e4388439",
   "metadata": {},
   "source": [
    "Checking if any column contains missing values"
   ]
  },
  {
   "cell_type": "code",
   "execution_count": 8,
   "id": "f95743c2",
   "metadata": {},
   "outputs": [
    {
     "name": "stdout",
     "output_type": "stream",
     "text": [
      "<class 'pandas.core.frame.DataFrame'>\n",
      "RangeIndex: 4879 entries, 0 to 4878\n",
      "Data columns (total 13 columns):\n",
      " #   Column          Non-Null Count  Dtype  \n",
      "---  ------          --------------  -----  \n",
      " 0   gender          4879 non-null   object \n",
      " 1   ssc_p           4879 non-null   float64\n",
      " 2   ssc_b           4879 non-null   object \n",
      " 3   hsc_p           4879 non-null   float64\n",
      " 4   hsc_b           4879 non-null   object \n",
      " 5   hsc_s           4879 non-null   object \n",
      " 6   degree_p        4879 non-null   float64\n",
      " 7   degree_t        4879 non-null   object \n",
      " 8   workex          4879 non-null   object \n",
      " 9   etest_p         4879 non-null   float64\n",
      " 10  specialisation  4879 non-null   object \n",
      " 11  mba_p           4879 non-null   float64\n",
      " 12  status          4879 non-null   object \n",
      "dtypes: float64(5), object(8)\n",
      "memory usage: 495.6+ KB\n"
     ]
    }
   ],
   "source": [
    "data.info()"
   ]
  },
  {
   "cell_type": "markdown",
   "id": "f492dd8e",
   "metadata": {},
   "source": [
    "Observing that certain columns do not consist of numerical values, it becomes important to determine the number of unique values in each column. This will aid in selecting an appropriate encoding method for categorical columns, considering that most machine learning models operate effectively with numerical data."
   ]
  },
  {
   "cell_type": "code",
   "execution_count": 9,
   "id": "b75a8fc3",
   "metadata": {},
   "outputs": [
    {
     "data": {
      "text/plain": [
       "gender               2\n",
       "ssc_p             2289\n",
       "ssc_b                2\n",
       "hsc_p             2926\n",
       "hsc_b                2\n",
       "hsc_s                3\n",
       "degree_p          2034\n",
       "degree_t             3\n",
       "workex               2\n",
       "etest_p           2628\n",
       "specialisation       2\n",
       "mba_p             1963\n",
       "status               2\n",
       "dtype: int64"
      ]
     },
     "execution_count": 9,
     "metadata": {},
     "output_type": "execute_result"
    }
   ],
   "source": [
    "pd.Series({c: data[c].unique().size for c in data})"
   ]
  },
  {
   "cell_type": "markdown",
   "id": "2b1dd860",
   "metadata": {},
   "source": [
    "Upon observation, it is apparent that the columns 'gender', 'ssc_b', 'hsc_b', 'hsc_s', 'degree_t', 'workex', 'specialisation' and 'status' exhibit a limited number of unique values, ranging from two to three. Consequently, these columns are well-suited for One-Hot Encoding. Therefore, applying One-Hot Encoding to these columns."
   ]
  },
  {
   "cell_type": "markdown",
   "id": "f225b7f7",
   "metadata": {},
   "source": [
    "Encoding columns having two unique values:"
   ]
  },
  {
   "cell_type": "code",
   "execution_count": 10,
   "id": "12332122",
   "metadata": {},
   "outputs": [],
   "source": [
    "data['gender'] = data['gender'].map({'M':1,'F':0})\n",
    "data['ssc_b'] = data['ssc_b'].map({'Central':1,'Others':0})\n",
    "data['hsc_b'] = data['hsc_b'].map({'Central':1,'Others':0})\n",
    "data['workex'] = data['workex'].map({'Yes':1,'No':0})\n",
    "data['specialisation'] = data['specialisation'].map({'Mkt&HR':1,'Mkt&Fin':0})\n",
    "data['status'] = data['status'].map({'Placed':1,'Not Placed':0})"
   ]
  },
  {
   "cell_type": "markdown",
   "id": "96396d64",
   "metadata": {},
   "source": [
    "Now, Encoding columns having three unique values:"
   ]
  },
  {
   "cell_type": "code",
   "execution_count": 11,
   "id": "eaf22b46",
   "metadata": {},
   "outputs": [],
   "source": [
    "from sklearn.preprocessing import OneHotEncoder\n",
    "\n",
    "ohe = OneHotEncoder()\n",
    "feature_array = ohe.fit_transform(data[[\"degree_t\", \"hsc_s\"]]).toarray()"
   ]
  },
  {
   "cell_type": "code",
   "execution_count": 12,
   "id": "c9e23254",
   "metadata": {},
   "outputs": [],
   "source": [
    "feature_labels = ohe.categories_\n",
    "feature_labels = np.array(feature_labels).ravel()"
   ]
  },
  {
   "cell_type": "code",
   "execution_count": 13,
   "id": "c48645e5",
   "metadata": {},
   "outputs": [],
   "source": [
    "features = pd.DataFrame(feature_array, columns = feature_labels)"
   ]
  },
  {
   "cell_type": "code",
   "execution_count": 14,
   "id": "decb41d3",
   "metadata": {},
   "outputs": [
    {
     "data": {
      "text/html": [
       "<div>\n",
       "<style scoped>\n",
       "    .dataframe tbody tr th:only-of-type {\n",
       "        vertical-align: middle;\n",
       "    }\n",
       "\n",
       "    .dataframe tbody tr th {\n",
       "        vertical-align: top;\n",
       "    }\n",
       "\n",
       "    .dataframe thead th {\n",
       "        text-align: right;\n",
       "    }\n",
       "</style>\n",
       "<table border=\"1\" class=\"dataframe\">\n",
       "  <thead>\n",
       "    <tr style=\"text-align: right;\">\n",
       "      <th></th>\n",
       "      <th>gender</th>\n",
       "      <th>ssc_p</th>\n",
       "      <th>ssc_b</th>\n",
       "      <th>hsc_p</th>\n",
       "      <th>hsc_b</th>\n",
       "      <th>degree_p</th>\n",
       "      <th>workex</th>\n",
       "      <th>etest_p</th>\n",
       "      <th>specialisation</th>\n",
       "      <th>mba_p</th>\n",
       "      <th>status</th>\n",
       "      <th>Comm&amp;Mgmt</th>\n",
       "      <th>Others</th>\n",
       "      <th>Sci&amp;Tech</th>\n",
       "      <th>Arts</th>\n",
       "      <th>Commerce</th>\n",
       "      <th>Science</th>\n",
       "    </tr>\n",
       "  </thead>\n",
       "  <tbody>\n",
       "    <tr>\n",
       "      <th>0</th>\n",
       "      <td>1</td>\n",
       "      <td>67.00</td>\n",
       "      <td>0</td>\n",
       "      <td>91.00</td>\n",
       "      <td>0</td>\n",
       "      <td>58.00</td>\n",
       "      <td>0</td>\n",
       "      <td>55.0</td>\n",
       "      <td>1</td>\n",
       "      <td>58.80</td>\n",
       "      <td>1</td>\n",
       "      <td>0.0</td>\n",
       "      <td>0.0</td>\n",
       "      <td>1.0</td>\n",
       "      <td>0.0</td>\n",
       "      <td>1.0</td>\n",
       "      <td>0.0</td>\n",
       "    </tr>\n",
       "    <tr>\n",
       "      <th>1</th>\n",
       "      <td>1</td>\n",
       "      <td>79.33</td>\n",
       "      <td>1</td>\n",
       "      <td>78.33</td>\n",
       "      <td>0</td>\n",
       "      <td>77.48</td>\n",
       "      <td>1</td>\n",
       "      <td>86.5</td>\n",
       "      <td>0</td>\n",
       "      <td>66.28</td>\n",
       "      <td>1</td>\n",
       "      <td>0.0</td>\n",
       "      <td>0.0</td>\n",
       "      <td>1.0</td>\n",
       "      <td>0.0</td>\n",
       "      <td>0.0</td>\n",
       "      <td>1.0</td>\n",
       "    </tr>\n",
       "    <tr>\n",
       "      <th>2</th>\n",
       "      <td>1</td>\n",
       "      <td>65.00</td>\n",
       "      <td>1</td>\n",
       "      <td>68.00</td>\n",
       "      <td>1</td>\n",
       "      <td>64.00</td>\n",
       "      <td>0</td>\n",
       "      <td>75.0</td>\n",
       "      <td>0</td>\n",
       "      <td>57.80</td>\n",
       "      <td>1</td>\n",
       "      <td>1.0</td>\n",
       "      <td>0.0</td>\n",
       "      <td>0.0</td>\n",
       "      <td>1.0</td>\n",
       "      <td>0.0</td>\n",
       "      <td>0.0</td>\n",
       "    </tr>\n",
       "    <tr>\n",
       "      <th>3</th>\n",
       "      <td>1</td>\n",
       "      <td>56.00</td>\n",
       "      <td>1</td>\n",
       "      <td>52.00</td>\n",
       "      <td>1</td>\n",
       "      <td>52.00</td>\n",
       "      <td>0</td>\n",
       "      <td>66.0</td>\n",
       "      <td>1</td>\n",
       "      <td>59.43</td>\n",
       "      <td>0</td>\n",
       "      <td>0.0</td>\n",
       "      <td>0.0</td>\n",
       "      <td>1.0</td>\n",
       "      <td>0.0</td>\n",
       "      <td>0.0</td>\n",
       "      <td>1.0</td>\n",
       "    </tr>\n",
       "    <tr>\n",
       "      <th>4</th>\n",
       "      <td>1</td>\n",
       "      <td>85.80</td>\n",
       "      <td>1</td>\n",
       "      <td>73.60</td>\n",
       "      <td>1</td>\n",
       "      <td>73.30</td>\n",
       "      <td>0</td>\n",
       "      <td>96.8</td>\n",
       "      <td>0</td>\n",
       "      <td>55.50</td>\n",
       "      <td>1</td>\n",
       "      <td>1.0</td>\n",
       "      <td>0.0</td>\n",
       "      <td>0.0</td>\n",
       "      <td>0.0</td>\n",
       "      <td>1.0</td>\n",
       "      <td>0.0</td>\n",
       "    </tr>\n",
       "  </tbody>\n",
       "</table>\n",
       "</div>"
      ],
      "text/plain": [
       "   gender  ssc_p  ssc_b  hsc_p  hsc_b  degree_p  workex  etest_p  \\\n",
       "0       1  67.00      0  91.00      0     58.00       0     55.0   \n",
       "1       1  79.33      1  78.33      0     77.48       1     86.5   \n",
       "2       1  65.00      1  68.00      1     64.00       0     75.0   \n",
       "3       1  56.00      1  52.00      1     52.00       0     66.0   \n",
       "4       1  85.80      1  73.60      1     73.30       0     96.8   \n",
       "\n",
       "   specialisation  mba_p  status  Comm&Mgmt  Others  Sci&Tech  Arts  Commerce  \\\n",
       "0               1  58.80       1        0.0     0.0       1.0   0.0       1.0   \n",
       "1               0  66.28       1        0.0     0.0       1.0   0.0       0.0   \n",
       "2               0  57.80       1        1.0     0.0       0.0   1.0       0.0   \n",
       "3               1  59.43       0        0.0     0.0       1.0   0.0       0.0   \n",
       "4               0  55.50       1        1.0     0.0       0.0   0.0       1.0   \n",
       "\n",
       "   Science  \n",
       "0      0.0  \n",
       "1      1.0  \n",
       "2      0.0  \n",
       "3      1.0  \n",
       "4      0.0  "
      ]
     },
     "execution_count": 14,
     "metadata": {},
     "output_type": "execute_result"
    }
   ],
   "source": [
    "data_new = pd.concat([data, features], axis=1)\n",
    "data_new.drop(['hsc_s', 'degree_t'], axis=1, inplace=True)\n",
    "data_new.head()"
   ]
  },
  {
   "cell_type": "markdown",
   "id": "b5b71e2a",
   "metadata": {},
   "source": [
    "Storing Feature Matrix In X and Response(Target) in Vector y"
   ]
  },
  {
   "cell_type": "code",
   "execution_count": 15,
   "id": "a0d45c82",
   "metadata": {},
   "outputs": [],
   "source": [
    "X = data_new.drop('status',axis=1)\n",
    "y = data_new['status']"
   ]
  },
  {
   "cell_type": "markdown",
   "id": "8a5760e5",
   "metadata": {},
   "source": [
    "Splitting the dataset into the Training Set and Test Set"
   ]
  },
  {
   "cell_type": "code",
   "execution_count": 16,
   "id": "114df113",
   "metadata": {},
   "outputs": [],
   "source": [
    "from sklearn.model_selection import train_test_split\n",
    "X_train,X_test,y_train,y_test=train_test_split(X,y,test_size=0.20,random_state=42)"
   ]
  },
  {
   "cell_type": "markdown",
   "id": "30aa8762",
   "metadata": {},
   "source": [
    "Now let's perform Machine Learning Classification. We'll be predicting the status based on the given features."
   ]
  },
  {
   "cell_type": "markdown",
   "id": "ec2fa7c3",
   "metadata": {},
   "source": [
    "### Model Selection"
   ]
  },
  {
   "cell_type": "markdown",
   "id": "280fdfc6",
   "metadata": {},
   "source": [
    "We will use several popular models and see how they perform on our dataset. At the end we will choose the best performing model.\n",
    "\n",
    "Importing models"
   ]
  },
  {
   "cell_type": "code",
   "execution_count": 17,
   "id": "7d1dc399",
   "metadata": {},
   "outputs": [],
   "source": [
    "from sklearn.linear_model import LogisticRegression\n",
    "from sklearn.svm import SVC\n",
    "from sklearn.tree import DecisionTreeClassifier\n",
    "from sklearn.ensemble import RandomForestClassifier\n",
    "from xgboost import XGBClassifier\n",
    "from sklearn.neighbors import KNeighborsClassifier\n",
    "\n",
    "from sklearn.metrics import classification_report, confusion_matrix, roc_auc_score\n",
    "from xgboost import plot_tree"
   ]
  },
  {
   "cell_type": "markdown",
   "id": "ecf9c933",
   "metadata": {},
   "source": [
    "Creating a Predefined function to assess the performance of a model"
   ]
  },
  {
   "cell_type": "code",
   "execution_count": 18,
   "id": "82564b58",
   "metadata": {},
   "outputs": [],
   "source": [
    "def performance(model):\n",
    "    \n",
    "    model.fit(X_train, y_train)\n",
    "    y_train_hat = model.predict(X_train)\n",
    "    y_test_hat = model.predict(X_test)\n",
    "\n",
    "    print(model)\n",
    "    print('Train performance')\n",
    "    print('-------------------------------------------------------')\n",
    "    print(classification_report(y_train, y_train_hat))\n",
    "\n",
    "    print('Test performance')\n",
    "    print('-------------------------------------------------------')\n",
    "    print(classification_report(y_test, y_test_hat))\n",
    "\n",
    "    print('Roc_auc score')\n",
    "    print('-------------------------------------------------------')\n",
    "    print(roc_auc_score(y_test, y_test_hat))\n",
    "    print('')\n",
    "\n",
    "    print('Confusion matrix')\n",
    "    print('-------------------------------------------------------')\n",
    "    print(confusion_matrix(y_test, y_test_hat))"
   ]
  },
  {
   "cell_type": "markdown",
   "id": "58c3534d",
   "metadata": {},
   "source": [
    "Next, we will train the models individually and evaluate their performance on our dataset."
   ]
  },
  {
   "cell_type": "code",
   "execution_count": 19,
   "id": "84bbd3e0",
   "metadata": {},
   "outputs": [
    {
     "name": "stdout",
     "output_type": "stream",
     "text": [
      "LogisticRegression(random_state=0)\n",
      "Train performance\n",
      "-------------------------------------------------------\n",
      "              precision    recall  f1-score   support\n",
      "\n",
      "           0       0.61      0.04      0.07       646\n",
      "           1       0.84      1.00      0.91      3257\n",
      "\n",
      "    accuracy                           0.84      3903\n",
      "   macro avg       0.72      0.52      0.49      3903\n",
      "weighted avg       0.80      0.84      0.77      3903\n",
      "\n",
      "Test performance\n",
      "-------------------------------------------------------\n",
      "              precision    recall  f1-score   support\n",
      "\n",
      "           0       0.36      0.02      0.05       164\n",
      "           1       0.83      0.99      0.91       812\n",
      "\n",
      "    accuracy                           0.83       976\n",
      "   macro avg       0.60      0.51      0.48       976\n",
      "weighted avg       0.76      0.83      0.76       976\n",
      "\n",
      "Roc_auc score\n",
      "-------------------------------------------------------\n",
      "0.5078847771236333\n",
      "\n",
      "Confusion matrix\n",
      "-------------------------------------------------------\n",
      "[[  4 160]\n",
      " [  7 805]]\n"
     ]
    }
   ],
   "source": [
    "# Logistic Regression\n",
    "lr = LogisticRegression(random_state=0)\n",
    "performance(lr)"
   ]
  },
  {
   "cell_type": "code",
   "execution_count": 20,
   "id": "df74fb67",
   "metadata": {},
   "outputs": [
    {
     "name": "stdout",
     "output_type": "stream",
     "text": [
      "SVC(random_state=0)\n",
      "Train performance\n",
      "-------------------------------------------------------\n",
      "              precision    recall  f1-score   support\n",
      "\n",
      "           0       0.00      0.00      0.00       646\n",
      "           1       0.83      1.00      0.91      3257\n",
      "\n",
      "    accuracy                           0.83      3903\n",
      "   macro avg       0.42      0.50      0.45      3903\n",
      "weighted avg       0.70      0.83      0.76      3903\n",
      "\n",
      "Test performance\n",
      "-------------------------------------------------------\n",
      "              precision    recall  f1-score   support\n",
      "\n",
      "           0       0.00      0.00      0.00       164\n",
      "           1       0.83      1.00      0.91       812\n",
      "\n",
      "    accuracy                           0.83       976\n",
      "   macro avg       0.42      0.50      0.45       976\n",
      "weighted avg       0.69      0.83      0.76       976\n",
      "\n",
      "Roc_auc score\n",
      "-------------------------------------------------------\n",
      "0.5\n",
      "\n",
      "Confusion matrix\n",
      "-------------------------------------------------------\n",
      "[[  0 164]\n",
      " [  0 812]]\n"
     ]
    }
   ],
   "source": [
    "# Support Vector Classifier\n",
    "svc = SVC(random_state=0)\n",
    "performance(svc)"
   ]
  },
  {
   "cell_type": "code",
   "execution_count": 21,
   "id": "54ad55a0",
   "metadata": {},
   "outputs": [
    {
     "name": "stdout",
     "output_type": "stream",
     "text": [
      "DecisionTreeClassifier(random_state=0)\n",
      "Train performance\n",
      "-------------------------------------------------------\n",
      "              precision    recall  f1-score   support\n",
      "\n",
      "           0       1.00      1.00      1.00       646\n",
      "           1       1.00      1.00      1.00      3257\n",
      "\n",
      "    accuracy                           1.00      3903\n",
      "   macro avg       1.00      1.00      1.00      3903\n",
      "weighted avg       1.00      1.00      1.00      3903\n",
      "\n",
      "Test performance\n",
      "-------------------------------------------------------\n",
      "              precision    recall  f1-score   support\n",
      "\n",
      "           0       0.24      0.25      0.24       164\n",
      "           1       0.85      0.84      0.84       812\n",
      "\n",
      "    accuracy                           0.74       976\n",
      "   macro avg       0.54      0.54      0.54       976\n",
      "weighted avg       0.75      0.74      0.74       976\n",
      "\n",
      "Roc_auc score\n",
      "-------------------------------------------------------\n",
      "0.5449507389162562\n",
      "\n",
      "Confusion matrix\n",
      "-------------------------------------------------------\n",
      "[[ 41 123]\n",
      " [130 682]]\n"
     ]
    }
   ],
   "source": [
    "# Decision Tree Classifier\n",
    "dtc = DecisionTreeClassifier(random_state=0)\n",
    "performance(dtc)"
   ]
  },
  {
   "cell_type": "code",
   "execution_count": 22,
   "id": "cf706eff",
   "metadata": {},
   "outputs": [
    {
     "name": "stdout",
     "output_type": "stream",
     "text": [
      "RandomForestClassifier()\n",
      "Train performance\n",
      "-------------------------------------------------------\n",
      "              precision    recall  f1-score   support\n",
      "\n",
      "           0       1.00      1.00      1.00       646\n",
      "           1       1.00      1.00      1.00      3257\n",
      "\n",
      "    accuracy                           1.00      3903\n",
      "   macro avg       1.00      1.00      1.00      3903\n",
      "weighted avg       1.00      1.00      1.00      3903\n",
      "\n",
      "Test performance\n",
      "-------------------------------------------------------\n",
      "              precision    recall  f1-score   support\n",
      "\n",
      "           0       0.41      0.04      0.08       164\n",
      "           1       0.84      0.99      0.91       812\n",
      "\n",
      "    accuracy                           0.83       976\n",
      "   macro avg       0.62      0.52      0.49       976\n",
      "weighted avg       0.76      0.83      0.77       976\n",
      "\n",
      "Roc_auc score\n",
      "-------------------------------------------------------\n",
      "0.5151838279466538\n",
      "\n",
      "Confusion matrix\n",
      "-------------------------------------------------------\n",
      "[[  7 157]\n",
      " [ 10 802]]\n"
     ]
    }
   ],
   "source": [
    "# Random Forest Classifier\n",
    "rfc = RandomForestClassifier()\n",
    "performance(rfc)"
   ]
  },
  {
   "cell_type": "code",
   "execution_count": 23,
   "id": "eeb00f93",
   "metadata": {},
   "outputs": [
    {
     "name": "stdout",
     "output_type": "stream",
     "text": [
      "XGBClassifier(base_score=None, booster=None, callbacks=None,\n",
      "              colsample_bylevel=None, colsample_bynode=None,\n",
      "              colsample_bytree=None, early_stopping_rounds=None,\n",
      "              enable_categorical=False, eval_metric=None, feature_types=None,\n",
      "              gamma=None, gpu_id=None, grow_policy=None, importance_type=None,\n",
      "              interaction_constraints=None, learning_rate=None, max_bin=None,\n",
      "              max_cat_threshold=None, max_cat_to_onehot=None,\n",
      "              max_delta_step=None, max_depth=None, max_leaves=None,\n",
      "              min_child_weight=None, missing=nan, monotone_constraints=None,\n",
      "              n_estimators=100, n_jobs=None, num_parallel_tree=None,\n",
      "              predictor=None, random_state=0, ...)\n",
      "Train performance\n",
      "-------------------------------------------------------\n",
      "              precision    recall  f1-score   support\n",
      "\n",
      "           0       1.00      0.91      0.95       646\n",
      "           1       0.98      1.00      0.99      3257\n",
      "\n",
      "    accuracy                           0.99      3903\n",
      "   macro avg       0.99      0.96      0.97      3903\n",
      "weighted avg       0.99      0.99      0.99      3903\n",
      "\n",
      "Test performance\n",
      "-------------------------------------------------------\n",
      "              precision    recall  f1-score   support\n",
      "\n",
      "           0       0.43      0.11      0.17       164\n",
      "           1       0.84      0.97      0.90       812\n",
      "\n",
      "    accuracy                           0.83       976\n",
      "   macro avg       0.64      0.54      0.54       976\n",
      "weighted avg       0.77      0.83      0.78       976\n",
      "\n",
      "Roc_auc score\n",
      "-------------------------------------------------------\n",
      "0.5400997236573352\n",
      "\n",
      "Confusion matrix\n",
      "-------------------------------------------------------\n",
      "[[ 18 146]\n",
      " [ 24 788]]\n"
     ]
    }
   ],
   "source": [
    "# XGBoost Classifier\n",
    "xgbc = XGBClassifier(random_state=0)\n",
    "performance(xgbc)"
   ]
  },
  {
   "cell_type": "code",
   "execution_count": 24,
   "id": "6e6098b2",
   "metadata": {},
   "outputs": [
    {
     "name": "stdout",
     "output_type": "stream",
     "text": [
      "KNeighborsClassifier()\n",
      "Train performance\n",
      "-------------------------------------------------------\n",
      "              precision    recall  f1-score   support\n",
      "\n",
      "           0       0.62      0.23      0.33       646\n",
      "           1       0.86      0.97      0.91      3257\n",
      "\n",
      "    accuracy                           0.85      3903\n",
      "   macro avg       0.74      0.60      0.62      3903\n",
      "weighted avg       0.82      0.85      0.82      3903\n",
      "\n",
      "Test performance\n",
      "-------------------------------------------------------\n",
      "              precision    recall  f1-score   support\n",
      "\n",
      "           0       0.30      0.12      0.17       164\n",
      "           1       0.84      0.94      0.89       812\n",
      "\n",
      "    accuracy                           0.81       976\n",
      "   macro avg       0.57      0.53      0.53       976\n",
      "weighted avg       0.75      0.81      0.77       976\n",
      "\n",
      "Roc_auc score\n",
      "-------------------------------------------------------\n",
      "0.5326504866033882\n",
      "\n",
      "Confusion matrix\n",
      "-------------------------------------------------------\n",
      "[[ 20 144]\n",
      " [ 46 766]]\n"
     ]
    }
   ],
   "source": [
    "# K-Nearest Neighbors Classifier\n",
    "knnc = KNeighborsClassifier()\n",
    "performance(knnc)"
   ]
  },
  {
   "cell_type": "markdown",
   "id": "d016db56",
   "metadata": {},
   "source": [
    "XGBoost Classifier model achieved an impressive F1 score of 0.83. Although other models also achieved the same F1 score, they did not perform as well on other parameters. Hence, this particular model outshines the rest. It is worth noting that this model tends to overfit the data, but it still demonstrates good generalization on the test set. While the main objective is not necessarily to increase accuracy (although it is possible), our focus is on obtaining a more reliable model. Consequently, we have made the decision to utilize this model for the classification task of determining whether a student has been placed or not."
   ]
  },
  {
   "cell_type": "markdown",
   "id": "145c9a97",
   "metadata": {},
   "source": [
    "### Model Evaluation"
   ]
  },
  {
   "cell_type": "markdown",
   "id": "ffeaabe7",
   "metadata": {},
   "source": [
    "Plotting Confusion Matrix"
   ]
  },
  {
   "cell_type": "code",
   "execution_count": 25,
   "id": "a7f6de8b",
   "metadata": {},
   "outputs": [
    {
     "data": {
      "image/png": "[encoded data removed]",
      "text/plain": [
       "<Figure size 640x480 with 2 Axes>"
      ]
     },
     "metadata": {},
     "output_type": "display_data"
    }
   ],
   "source": [
    "y_pred = xgbc.predict(X_test)\n",
    "\n",
    "cf_matrix = confusion_matrix(y_test, y_pred)\n",
    "\n",
    "ax = sns.heatmap(cf_matrix, annot=True, cmap='Blues')\n",
    "\n",
    "ax.set_title('Confusion Matrix\\n');\n",
    "ax.set_xlabel('\\nPredicted Values')\n",
    "ax.set_ylabel('Actual Values\\n');\n",
    "\n",
    "ax.xaxis.set_ticklabels(['Not Placed','Placed'])\n",
    "ax.yaxis.set_ticklabels(['Not Placed','Placed'])\n",
    "\n",
    "plt.show()"
   ]
  },
  {
   "cell_type": "markdown",
   "id": "96b2f5fa",
   "metadata": {},
   "source": [
    "Finding the feature importance for XGBClassifier"
   ]
  },
  {
   "cell_type": "code",
   "execution_count": 26,
   "id": "8710add1",
   "metadata": {},
   "outputs": [
    {
     "data": {
      "text/plain": [
       "array([0.04923012, 0.09017675, 0.0636722 , 0.06551535, 0.07053924,\n",
       "       0.05949239, 0.05354981, 0.05992052, 0.04936187, 0.06268686,\n",
       "       0.04638074, 0.10312427, 0.05059196, 0.04764485, 0.06414644,\n",
       "       0.06396659], dtype=float32)"
      ]
     },
     "execution_count": 26,
     "metadata": {},
     "output_type": "execute_result"
    }
   ],
   "source": [
    "xgbc.feature_importances_"
   ]
  },
  {
   "cell_type": "markdown",
   "id": "e04de5f3",
   "metadata": {},
   "source": [
    "It is evident that each feature holds nearly equal importance in the classification"
   ]
  },
  {
   "cell_type": "markdown",
   "id": "07a10cae",
   "metadata": {},
   "source": [
    "Visualising XGBoost Classifier"
   ]
  },
  {
   "cell_type": "code",
   "execution_count": 27,
   "id": "1ff46d68",
   "metadata": {},
   "outputs": [
    {
     "data": {
      "image/png": "[encoded data removed]",
      "text/plain": [
       "<Figure size 2000x2000 with 1 Axes>"
      ]
     },
     "metadata": {},
     "output_type": "display_data"
    }
   ],
   "source": [
    "fig, ax = plt.subplots(figsize=(20,20))\n",
    "plot_tree(xgbc, ax=ax)\n",
    "plt.show()"
   ]
  },
  {
   "cell_type": "markdown",
   "id": "8d5fb684",
   "metadata": {},
   "source": [
    "### Conclusion"
   ]
  },
  {
   "cell_type": "markdown",
   "id": "6a59e552",
   "metadata": {},
   "source": [
    "After conducting an Exploratory Data Analysis (EDA) and performing data preprocessing, we proceeded with Machine Learning Classification to predict the status based on the given features. We employed several popular models and evaluated their performance on the dataset to select the best performing model.\n",
    "\n",
    "Among the models tested, our XGBoost Classifier stood out with an impressive F1 score of 0.83. While other models achieved the same F1 score, they did not perform as well on other evaluation parameters. Despite exhibiting some overfitting tendencies, the XGBoost Classifier demonstrated good generalization on the test set.\n",
    "\n",
    "Our objective was not solely to maximize accuracy, but to obtain a more stable and reliable model. Therefore, we have decided to utilize the XGBoost Classifier for the task of classifying whether a student has been placed or not."
   ]
  }
 ],
 "metadata": {
  "kernelspec": {
   "display_name": "Python 3 (ipykernel)",
   "language": "python",
   "name": "python3"
  },
  "language_info": {
   "codemirror_mode": {
    "name": "ipython",
    "version": 3
   },
   "file_extension": ".py",
   "mimetype": "text/x-python",
   "name": "python",
   "nbconvert_exporter": "python",
   "pygments_lexer": "ipython3",
   "version": "3.10.9"
  }
 },
 "nbformat": 4,
 "nbformat_minor": 5
}
